{
 "cells": [
  {
   "cell_type": "markdown",
   "id": "dc90d0a9",
   "metadata": {},
   "source": [
    "## Fukuro Adaptive Monte Carlo Localization"
   ]
  },
  {
   "cell_type": "markdown",
   "id": "36364778",
   "metadata": {},
   "source": [
    "### A. Importing Dependencies "
   ]
  },
  {
   "cell_type": "code",
   "execution_count": 1,
   "id": "f07f0188",
   "metadata": {},
   "outputs": [],
   "source": [
    "# DEPENDENCIES\n",
    "import numpy as np\n",
    "import matplotlib.pyplot as plt\n",
    "import matplotlib.animation as animation"
   ]
  },
  {
   "cell_type": "code",
   "execution_count": 2,
   "id": "3fad4a5b",
   "metadata": {},
   "outputs": [],
   "source": [
    "# AMCLL PARAMETERS\n",
    "NUM_PARTICLES = 100\n",
    "MAP_SIZE = (100, 100)\n",
    "\n",
    "# ROBOT PARAMETERS\n",
    "MOVE_DISTANCE = 5.0\n",
    "NOISE_STD = 2.0\n",
    "robot_position = np.array([20.0, 20.0])"
   ]
  },
  {
   "cell_type": "code",
   "execution_count": 3,
   "id": "a8f10c38",
   "metadata": {},
   "outputs": [],
   "source": [
    "class Particle:\n",
    "    def __init__(self, x, y, weight=1.0):\n",
    "        self.x = x\n",
    "        self.y = y\n",
    "        self.weight = weight\n",
    "    def move(self, dx, dy):\n",
    "        self.x += dx + np.random.normal(0, NOISE_STD) # ONLY FOR SIMULATION\n",
    "        self.y += dy + np.random.normal(0, NOISE_STD) # ONLY FOR SIMULATION\n",
    "\n",
    "def particle_generator():\n",
    "    return [Particle(x=np.random.uniform(0, MAP_SIZE[0]),\n",
    "                     y=np.random.uniform(0, MAP_SIZE[1]))                    \n",
    "            for _ in range(NUM_PARTICLES)] # GENERATE N PARTICLES"
   ]
  },
  {
   "cell_type": "code",
   "execution_count": 4,
   "id": "611bd2c0",
   "metadata": {},
   "outputs": [
    {
     "data": {
      "image/png": "[encoded data removed]",
      "text/plain": [
       "<Figure size 600x600 with 1 Axes>"
      ]
     },
     "metadata": {},
     "output_type": "display_data"
    }
   ],
   "source": [
    "# Visualization canvas\n",
    "fig, ax = plt.subplots(figsize=(6, 6))\n",
    "sc_particles = ax.scatter([], [], c='blue', label='Particles')\n",
    "sc_robot = ax.scatter([], [], c='red', s=100, label='Robot')\n",
    "step_text = ax.text(0.02, 0.95, '', transform=ax.transAxes)\n",
    "\n",
    "def sense(particle, robot_pos): # SELECTING PARTICLES ACCORDING TO EUCLIDIAN DISTANCE AS LIKELIHOOD\n",
    "    # NORMALIZE DISTANCE\n",
    "    distance = np.linalg.norm(np.array([particle.x, particle.y]) - robot_pos) \n",
    "\n",
    "    # CALCULATING HOW LIKELY THE PARTICLE IS CLOSE WITH TRUE POSITION \n",
    "    # THIS CALCULATION USE GAUSSIAN OR NORM DIST PDF FUNCTION\n",
    "    # SO IT DEPENDS ON THE NOISE STD VALUE \n",
    "    return np.exp(-distance**2 / (2 * NOISE_STD**2))\n",
    "\n",
    "def resample(particles): # PARTICLE WEIGHT BASED RESAMPLING\n",
    "    weights = np.array([p.weight for p in particles])\n",
    "    weights += 1e-300 # ADDING EXTREMELY SMALL VALUE TO PREVENT DIVISION BY ZERO\n",
    "    weights /= np.sum(weights) # NORMALIZE THE WEIGHTS\n",
    "    indices = np.random.choice(len(particles), size=len(particles), p=weights)\n",
    "    return [Particle(particles[i].x, particles[i].y) for i in indices]"
   ]
  },
  {
   "cell_type": "code",
   "execution_count": 5,
   "id": "ea1ddce2",
   "metadata": {},
   "outputs": [],
   "source": [
    "# Simulation step manager\n",
    "state = ['predict', 'sense', 'resample', 'move']\n",
    "step_counter = 0\n",
    "\n",
    "def update(frame):\n",
    "    global particles, robot_position, step_counter\n",
    "    ax.clear()\n",
    "    ax.set_xlim(0, MAP_SIZE[0])\n",
    "    ax.set_ylim(0, MAP_SIZE[1])\n",
    "\n",
    "    current_step = state[step_counter % len(state)]\n",
    "\n",
    "    if current_step == 'predict':\n",
    "        # 1. Prediction step: simulate motion\n",
    "        for p in particles:\n",
    "            p.move(MOVE_DISTANCE, 0)\n",
    "        step_text.set_text(\"Step: Prediction\")\n",
    "        ax.set_title(\"1. Prediction: Motion update\")\n",
    "        color = 'gray'\n",
    "\n",
    "    elif current_step == 'sense':\n",
    "        # 2. Weight update based on sensing\n",
    "        for p in particles:\n",
    "            p.weight = sense(p, robot_position)\n",
    "        step_text.set_text(\"Step: Sensing / Weighting\")\n",
    "        ax.set_title(\"2. Sensing: Weight Update\")\n",
    "        color = 'blue'\n",
    "\n",
    "    elif current_step == 'resample':\n",
    "        # 3. Resample based on weights\n",
    "        particles = resample(particles)\n",
    "        step_text.set_text(\"Step: Resampling\")\n",
    "        ax.set_title(\"3. Resampling: Particle Selection\")\n",
    "        color = 'green'\n",
    "\n",
    "    elif current_step == 'move':\n",
    "        # 4. Robot moves\n",
    "        robot_position[0] += MOVE_DISTANCE\n",
    "        step_text.set_text(\"Step: Robot Moving\")\n",
    "        ax.set_title(\"4. Robot Moves\")\n",
    "        color = 'red'\n",
    "\n",
    "    step_counter += 1\n",
    "\n",
    "    # Draw\n",
    "    xs = [p.x for p in particles]\n",
    "    ys = [p.y for p in particles]\n",
    "    ax.scatter(xs, ys, color=color, alpha=0.6, label='Particles')\n",
    "    ax.scatter(robot_position[0], robot_position[1], color='red', s=100, label='Robot')\n",
    "    ax.legend()\n",
    "    ax.text(0.02, 0.95, f\"Step: {current_step.upper()}\", transform=ax.transAxes)\n",
    "\n",
    "ani = animation.FuncAnimation(fig, update, frames=100, interval=1000)\n",
    "plt.show()"
   ]
  },
  {
   "cell_type": "code",
   "execution_count": null,
   "id": "e803c4ec",
   "metadata": {},
   "outputs": [],
   "source": []
  }
 ],
 "metadata": {
  "kernelspec": {
   "display_name": "data-sci-env",
   "language": "python",
   "name": "python3"
  },
  "language_info": {
   "codemirror_mode": {
    "name": "ipython",
    "version": 3
   },
   "file_extension": ".py",
   "mimetype": "text/x-python",
   "name": "python",
   "nbconvert_exporter": "python",
   "pygments_lexer": "ipython3",
   "version": "3.11.8"
  }
 },
 "nbformat": 4,
 "nbformat_minor": 5
}
