{
 "cells": [
  {
   "cell_type": "markdown",
   "id": "dc90d0a9",
   "metadata": {},
   "source": [
    "## Fukuro Adaptive Monte Carlo Localization"
   ]
  },
  {
   "cell_type": "markdown",
   "id": "36364778",
   "metadata": {},
   "source": [
    "### A. Download and Importing Dependencies "
   ]
  },
  {
   "cell_type": "code",
   "execution_count": 3,
   "id": "f07f0188",
   "metadata": {},
   "outputs": [],
   "source": [
    "import numpy as np\n",
    "import matplotlib.pyplot as plt\n",
    "import scipy.stats as stats"
   ]
  },
  {
   "cell_type": "code",
   "execution_count": 10,
   "id": "3fad4a5b",
   "metadata": {},
   "outputs": [],
   "source": [
    "# AMCLL PARAMETERS\n",
    "NUM_PARTICLES = 100\n",
    "MAP_SIZE = (100, 100)\n",
    "\n",
    "# ROBOT PARAMETERS\n",
    "MOVE_DISTANCE = 5.0\n",
    "NOISE_STD = 2.0\n",
    "robot_position = np.array([20.0, 20.0])"
   ]
  },
  {
   "cell_type": "code",
   "execution_count": 11,
   "id": "a8f10c38",
   "metadata": {},
   "outputs": [],
   "source": [
    "class Particle:\n",
    "    def __init__(self, x, y, weight=1.0):\n",
    "        self.x = x\n",
    "        self.y = y\n",
    "        self.weight = weight\n",
    "    def move(self, dx, dy):\n",
    "        self.x += dx + np.random.normal(0, NOISE_STD) # ONLY FOR SIMULATION\n",
    "        self.y += dy + np.random.normal(0, NOISE_STD) # ONLY FOR SIMULATION\n",
    "\n",
    "def particle_generator():\n",
    "    return [Particle(x=np.random.uniform(0, MAP_SIZE[0]),\n",
    "                     y=np.random.uniform(0, MAP_SIZE[1]))                    \n",
    "            for _ in range(NUM_PARTICLES)] # GENERATE N PARTICLES"
   ]
  },
  {
   "cell_type": "code",
   "execution_count": null,
   "id": "611bd2c0",
   "metadata": {},
   "outputs": [],
   "source": [
    "# Visualization canvas\n",
    "fig, ax = plt.subplots(figsize=(6, 6))\n",
    "sc_particles = ax.scatter([], [], c='blue', label='Particles')\n",
    "sc_robot = ax.scatter([], [], c='red', s=100, label='Robot')\n",
    "step_text = ax.text(0.02, 0.95, '', transform=ax.transAxes)\n",
    "\n",
    "def sense(particle, robot_pos): # SELECTING PARTICLES ACCORDING TO EUCLIDIAN DISTANCE AS LIKELIHOOD\n",
    "    # NORMALIZE DISTANCE\n",
    "    distance = np.linalg.norm(np.array([particle.x, particle.y]) - robot_pos) \n",
    "\n",
    "    # CALCULATING HOW LIKELY THE PARTICLE IS CLOSE WITH TRUE POSITION \n",
    "    # THIS CALCULATION USE GAUSSIAN OR NORM DIST PDF FUNCTION\n",
    "    # SO IT DEPENDS ON THE NOISE STD VALUE \n",
    "    return np.exp(-distance**2 / (2 * NOISE_STD**2))\n",
    "\n",
    "def resample(particles): # PARTICLE WEIGHT BASED RESAMPLING\n",
    "    weights = np.array([p.weight for p in particles])\n",
    "    weights += 1e-300 # ADDING EXTREMELY SMALL VALUE TO PREVENT DIVISION BY ZERO\n",
    "    weights /= np.sum(weights) # NORMALIZE THE WEIGHTS\n",
    "    "
   ]
  }
 ],
 "metadata": {
  "kernelspec": {
   "display_name": "data-sci-env",
   "language": "python",
   "name": "python3"
  },
  "language_info": {
   "codemirror_mode": {
    "name": "ipython",
    "version": 3
   },
   "file_extension": ".py",
   "mimetype": "text/x-python",
   "name": "python",
   "nbconvert_exporter": "python",
   "pygments_lexer": "ipython3",
   "version": "3.13.1"
  }
 },
 "nbformat": 4,
 "nbformat_minor": 5
}
