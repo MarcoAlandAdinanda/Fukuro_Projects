{
 "cells": [
  {
   "cell_type": "code",
   "execution_count": null,
   "id": "a127e953",
   "metadata": {},
   "outputs": [],
   "source": [
    "import numpy as np\n",
    "import matplotlib.pyplot as plt\n",
    "\n",
    "# Parameters\n",
    "initial_investment = 1000000\n",
    "days = 20\n",
    "mu = 0.0002  # Expected return\n",
    "sigma = 0.01  # Volatility\n",
    "simulations = 10000\n",
    "\n",
    "# Monte Carlo simulation\n",
    "returns = np.random.normal(mu, sigma, (days, simulations))\n",
    "portfolio_values = initial_investment * (1 + returns).cumprod(axis=0)\n",
    "\n",
    "# Calculate risk metrics\n",
    "final_values = portfolio_values[-1]\n",
    "var_95 = np.percentile(final_values, 5)\n",
    "prob_loss = np.mean(final_values < initial_investment)\n",
    "\n",
    "# Visualization\n",
    "plt.hist(final_values, bins=50)\n",
    "plt.axvline(var_95, color='r', linestyle='dashed', linewidth=2)\n",
    "plt.title(\"Portfolio Value Distribution after 20 Days\")\n",
    "plt.show()\n",
    "\n",
    "print(f\"95% VaR: ${initial_investment - var_95:.2f}\")\n",
    "print(f\"Probability of Loss: {prob_loss:.2%}\")"
   ]
  }
 ],
 "metadata": {
  "kernelspec": {
   "display_name": "data-sci-env",
   "language": "python",
   "name": "python3"
  },
  "language_info": {
   "name": "python",
   "version": "3.13.1"
  }
 },
 "nbformat": 4,
 "nbformat_minor": 5
}
