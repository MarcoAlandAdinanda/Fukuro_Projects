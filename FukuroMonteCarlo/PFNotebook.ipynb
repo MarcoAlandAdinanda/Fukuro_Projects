{
 "cells": [
  {
   "cell_type": "markdown",
   "id": "34af92c1",
   "metadata": {},
   "source": [
    "### NOTE\n",
    "- Menentukan ukuran state space (ukuran map)\n",
    "- Menentukan landmarks (titik yang dideteksi oleh model FukuroOmni)\n",
    "- Menentukan posisi awal robot, misalnya, [koordinat-x, koordinat-y, angle] -> [30, 30, phi/4]\n",
    "- "
   ]
  },
  {
   "cell_type": "markdown",
   "id": "e057a87c",
   "metadata": {},
   "source": [
    "### A. Importing Dependencies"
   ]
  },
  {
   "cell_type": "code",
   "execution_count": 2,
   "id": "d308505d",
   "metadata": {},
   "outputs": [],
   "source": [
    "import numpy as np\n",
    "import matplotlib.pyplot as plt\n",
    "from matplotlib.animation import FuncAnimation"
   ]
  },
  {
   "cell_type": "code",
   "execution_count": 3,
   "id": "85f30713",
   "metadata": {},
   "outputs": [],
   "source": [
    "# Konstanta simulasi\n",
    "NUM_PARTICLES = 300\n",
    "TRUE_POS = np.array([5, 5])          # Posisi robot sebenarnya\n",
    "LANDMARK = np.array([10, 5])         # Landmark\n",
    "TRUE_DISTANCE = np.linalg.norm(TRUE_POS - LANDMARK)  # Sensor jarak ke landmark\n",
    "\n",
    "# Inisialisasi partikel secara acak\n",
    "particles = np.random.uniform(0, 10, size=(NUM_PARTICLES, 2))\n"
   ]
  },
  {
   "cell_type": "code",
   "execution_count": 4,
   "id": "5fd61821",
   "metadata": {},
   "outputs": [],
   "source": [
    "# Fungsi untuk menghitung bobot partikel berdasarkan seberapa mirip jaraknya dengan sensor\n",
    "def compute_weights(particles, landmark, observed_distance, sensor_std=0.5):\n",
    "    distances = np.linalg.norm(particles - landmark, axis=1)\n",
    "    # Bobot berdasarkan distribusi normal (semakin mirip, bobotnya makin besar)\n",
    "    weights = np.exp(-0.5 * ((distances - observed_distance)/sensor_std)**2)\n",
    "    return weights / np.sum(weights)\n",
    "\n",
    "# Resampling partikel berdasarkan bobot\n",
    "def resample_particles(particles, weights):\n",
    "    indices = np.random.choice(len(particles), size=len(particles), p=weights)\n",
    "    return particles[indices]\n"
   ]
  },
  {
   "cell_type": "code",
   "execution_count": 5,
   "id": "253fd7df",
   "metadata": {},
   "outputs": [
    {
     "data": {
      "image/png": "[encoded data removed]",
      "text/plain": [
       "<Figure size 640x480 with 1 Axes>"
      ]
     },
     "metadata": {},
     "output_type": "display_data"
    }
   ],
   "source": [
    "# Set up plot\n",
    "fig, ax = plt.subplots()\n",
    "sc_particles = ax.scatter([], [], color='gray', alpha=0.5, label='Partikel')\n",
    "robot_dot = ax.scatter([], [], color='red', label='Robot Sebenarnya')\n",
    "landmark_dot = ax.scatter([], [], color='blue', label='Landmark')\n",
    "text_step = ax.text(0.5, 10.5, '', fontsize=10)\n",
    "\n",
    "ax.set_xlim(0, 12)\n",
    "ax.set_ylim(0, 12)\n",
    "ax.set_aspect('equal')\n",
    "ax.legend()\n",
    "\n",
    "# Animation\n",
    "step = [0]\n",
    "def update(frame):\n",
    "    step[0] += 1\n",
    "    global particles\n",
    "    weights = compute_weights(particles, LANDMARK, TRUE_DISTANCE)\n",
    "    est_pos = np.average(particles, weights=weights, axis=0)\n",
    "\n",
    "    # Update plot\n",
    "    sc_particles.set_offsets(particles)\n",
    "    robot_dot.set_offsets([TRUE_POS])\n",
    "    landmark_dot.set_offsets([LANDMARK])\n",
    "    text_step.set_text(f\"Langkah: {step[0]}\\nEstimasi: ({est_pos[0]:.2f}, {est_pos[1]:.2f})\")\n",
    "\n",
    "    # Resample partikel untuk memperbaiki estimasi\n",
    "    particles = resample_particles(particles, weights)\n",
    "\n",
    "ani = FuncAnimation(fig, update, frames=1000, interval=1000, repeat=False)\n",
    "plt.show()\n"
   ]
  }
 ],
 "metadata": {
  "kernelspec": {
   "display_name": "data-sci-env",
   "language": "python",
   "name": "python3"
  },
  "language_info": {
   "codemirror_mode": {
    "name": "ipython",
    "version": 3
   },
   "file_extension": ".py",
   "mimetype": "text/x-python",
   "name": "python",
   "nbconvert_exporter": "python",
   "pygments_lexer": "ipython3",
   "version": "3.11.8"
  }
 },
 "nbformat": 4,
 "nbformat_minor": 5
}
