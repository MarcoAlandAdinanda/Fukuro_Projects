{
 "cells": [
  {
   "cell_type": "markdown",
   "id": "18fbfd7c",
   "metadata": {},
   "source": [
    "## Fukuro AMCL "
   ]
  },
  {
   "cell_type": "markdown",
   "id": "98338734",
   "metadata": {},
   "source": [
    "### A. Introduction and Importing Dependencies"
   ]
  },
  {
   "cell_type": "code",
   "execution_count": 1,
   "id": "8c4d6799",
   "metadata": {},
   "outputs": [],
   "source": [
    "import math\n",
    "import numpy as np\n",
    "import matplotlib.pyplot as plt"
   ]
  },
  {
   "cell_type": "code",
   "execution_count": null,
   "id": "c29f0469",
   "metadata": {},
   "outputs": [
    {
     "name": "stdout",
     "output_type": "stream",
     "text": [
      "84\n",
      "84\n"
     ]
    }
   ],
   "source": [
    "x = np.arange(-10, 11, 0.25)\n",
    "y = 7 * np.sin(x)\n",
    "\n",
    "dx = np.gradient(x)\n",
    "dy = np.gradient(y)\n",
    "\n",
    "print(y)\n",
    "\n",
    "print(len(dy)"
   ]
  },
  {
   "cell_type": "code",
   "execution_count": 2,
   "id": "3ac71a52",
   "metadata": {},
   "outputs": [],
   "source": [
    "# Define the Particle for AMCL\n",
    "class Particle:\n",
    "    def __init__(self, x, y, theta, weight):\n",
    "        self.x = x\n",
    "        self.y = y\n",
    "        self.theta = theta\n",
    "        self.weight = weight"
   ]
  },
  {
   "cell_type": "code",
   "execution_count": 3,
   "id": "d92816bf",
   "metadata": {},
   "outputs": [],
   "source": [
    "class AMCL:\n",
    "    def __init__(self, \n",
    "                 num_particles, \n",
    "                 map_landmarks, \n",
    "                 initial_pose=None):\n",
    "        self.num_particles = num_particles\n",
    "        self.map_landmarks = map_landmarks\n",
    "        self.particles = []\n",
    "\n",
    "        # set random particles around initial pose using norm distribution\n",
    "        # norm distribution helps us to decrease the probabilty of getting extremely wrong particles\n",
    "        # because norm distribution will generate particles around initial position\n",
    "        if initial_pose: \n",
    "            x, y, theta = initial_pose\n",
    "            for _ in range(num_particles):\n",
    "                noise_x = np.random.normal(x, 0.1)\n",
    "                noise_y = np.random.normal(y, 0.1)\n",
    "                noise_theta = np.random.normal(theta, 0.05)\n",
    "                self.particles.append(Particle(x=noise_x, \n",
    "                                               y=noise_y, \n",
    "                                               theta=noise_theta, \n",
    "                                               weight=1.0/num_particles))\n",
    "\n",
    "    def predict(self, u, noise):\n",
    "        # generate random normal particles around robot\n",
    "        std_x, std_y, std_theta = noise\n",
    "        for p in self.particles:\n",
    "            p.x += u[0] + np.random.normal(0, std_x)\n",
    "            p.y += u[1] + np.random.normal(0, std_y)\n",
    "            p.theta += u[2] + np.random.normal(0, std_theta)\n",
    "            p.theta = (p.theta + np.pi) % (2 * np.pi) - np.pi\n",
    "        \n",
    "    def update(self, measurements, range_std, bearing_std): # update according to landmarks\n",
    "        for p in self.particles:\n",
    "            p.weight = 1.0\n",
    "            for (landmark_id, measured_range, measured_bearing) in measurements:\n",
    "                lx, ly = self.map_landmarks[landmark_id]\n",
    "                dx = lx - p.x\n",
    "                dy = ly - p.y\n",
    "                expected_range = np.hypot(dx, dy)\n",
    "                expected_bearing = np.arctan2(dy, dx) - p.theta\n",
    "                expected_bearing = (expected_bearing + np.pi) % (2 * np.pi) - np.pi\n",
    "                \n",
    "                # calculating a likelihood\n",
    "                prob_range = (1.0 / (range_std * np.sqrt(2 * np.pi))) * \\\n",
    "                           np.exp(-0.5 * ((measured_range - expected_range)/range_std)**2)\n",
    "                prob_bearing = (1.0 / (bearing_std * np.sqrt(2 * np.pi))) * \\\n",
    "                             np.exp(-0.5 * ((measured_bearing - expected_bearing)/bearing_std)**2)\n",
    "                p.weight *= prob_range * prob_bearing\n",
    "        \n",
    "        total_weight = sum(p.weight for p in self.particles)\n",
    "        if total_weight == 0:\n",
    "            for p in self.particles:\n",
    "                p.weight = 1.0 / self.num_particles\n",
    "        else:\n",
    "            for p in self.particles:\n",
    "                p.weight /= total_weight\n",
    "\n",
    "    def resample(self):\n",
    "        weights = [p.weight for p in self.particles]\n",
    "        cumulative_weights = np.cumsum(weights)\n",
    "        step = cumulative_weights[-1] / self.num_particles\n",
    "        start = np.random.uniform(0, step)\n",
    "        \n",
    "        indexes = []\n",
    "        for i in range(self.num_particles):\n",
    "            pointer = start + i * step\n",
    "            index = np.searchsorted(cumulative_weights, pointer)\n",
    "            indexes.append(index % len(self.particles))\n",
    "        \n",
    "        new_particles = [Particle(self.particles[i].x, self.particles[i].y,\n",
    "                                 self.particles[i].theta, 1.0/self.num_particles)\n",
    "                        for i in indexes]\n",
    "        self.particles = new_particles\n",
    "\n",
    "    def get_estimated_pose(self):\n",
    "        x = sum(p.x * p.weight for p in self.particles)\n",
    "        y = sum(p.y * p.weight for p in self.particles)\n",
    "        sin_sum = sum(np.sin(p.theta) * p.weight for p in self.particles)\n",
    "        cos_sum = sum(np.cos(p.theta) * p.weight for p in self.particles)\n",
    "        theta = np.arctan2(sin_sum, cos_sum)\n",
    "        return (x, y, theta)"
   ]
  },
  {
   "cell_type": "code",
   "execution_count": 4,
   "id": "4cba74aa",
   "metadata": {},
   "outputs": [],
   "source": [
    "class AMCLVisualizer:\n",
    "    def __init__(self, amcl, landmarks, true_pose):\n",
    "        self.fig, self.ax = plt.subplots(figsize=(10, 10))\n",
    "        self.amcl = amcl\n",
    "        self.landmarks = landmarks\n",
    "        self.true_pose = true_pose\n",
    "        self.setup_plot()\n",
    "        \n",
    "    def setup_plot(self):\n",
    "        self.ax.set_xlim(-10, 10)\n",
    "        self.ax.set_ylim(-10, 10)\n",
    "        self.ax.set_title(\"AMCL Localization with Landmarks\")\n",
    "        self.ax.set_xlabel(\"X position\")\n",
    "        self.ax.set_ylabel(\"Y position\")\n",
    "        \n",
    "        # Plot landmarks\n",
    "        for lid, pos in self.landmarks.items():\n",
    "            self.ax.scatter(pos[0], pos[1], s=100, marker='*', color='orange', label='Landmarks' if lid == 0 else \"\")\n",
    "        \n",
    "        # Initial plots\n",
    "        self.particle_plot = self.ax.scatter([], [], s=5, alpha=0.5, color='blue', label='Particles')\n",
    "        self.true_pose_plot = self.ax.quiver([], [], [], [], color='red', scale=20, label='True Pose')\n",
    "        self.estimated_pose_plot = self.ax.quiver([], [], [], [], color='green', scale=20, label='Estimated Pose')\n",
    "        self.ax.legend()\n",
    "        \n",
    "    def update_plot(self):\n",
    "        # Clear previous poses\n",
    "        self.true_pose_plot.remove()\n",
    "        self.estimated_pose_plot.remove()\n",
    "        \n",
    "        # Update particles\n",
    "        particles = self.amcl.particles\n",
    "        x = [p.x for p in particles]\n",
    "        y = [p.y for p in particles]\n",
    "        self.particle_plot.set_offsets(np.c_[x, y])\n",
    "        \n",
    "        # Update true pose\n",
    "        tx, ty, ttheta = self.true_pose\n",
    "        self.true_pose_plot = self.ax.quiver(tx, ty, np.cos(ttheta), np.sin(ttheta), \n",
    "                                            color='red', scale=20)\n",
    "        \n",
    "        # Update estimated pose\n",
    "        ex, ey, etheta = self.amcl.get_estimated_pose()\n",
    "        self.estimated_pose_plot = self.ax.quiver(ex, ey, np.cos(etheta), np.sin(etheta), \n",
    "                                                 color='green', scale=20)\n",
    "        \n",
    "        plt.draw()\n",
    "        plt.pause(0.1)\n",
    "\n",
    "def simulate_robot_movement(true_pose, control_input):\n",
    "    noise = np.random.normal(0, [0.05, 0.05, 0.02])\n",
    "    new_pose = (\n",
    "        true_pose[0] + control_input[0] + noise[0],\n",
    "        true_pose[1] + control_input[1] + noise[1],\n",
    "        (true_pose[2] + control_input[2] + noise[2]) % (2 * np.pi)\n",
    "    )\n",
    "    return new_pose\n",
    "\n",
    "def generate_measurements(true_pose, landmarks, range_std=0.1, bearing_std=0.05):\n",
    "    measurements = []\n",
    "    for landmark_id, (lx, ly) in landmarks.items():\n",
    "        dx = lx - true_pose[0]\n",
    "        dy = ly - true_pose[1]\n",
    "        distance = np.hypot(dx, dy)\n",
    "        bearing = np.arctan2(dy, dx) - true_pose[2]\n",
    "        bearing = (bearing + np.pi) % (2 * np.pi) - np.pi\n",
    "        measurements.append((\n",
    "            landmark_id,\n",
    "            distance + np.random.normal(0, range_std),\n",
    "            bearing + np.random.normal(0, bearing_std)\n",
    "        ))\n",
    "    return measurements"
   ]
  },
  {
   "cell_type": "code",
   "execution_count": 5,
   "id": "c35f68ea",
   "metadata": {},
   "outputs": [
    {
     "data": {
      "image/png": "[encoded data removed]",
      "text/plain": [
       "<Figure size 1000x1000 with 1 Axes>"
      ]
     },
     "metadata": {},
     "output_type": "display_data"
    },
    {
     "data": {
      "text/plain": [
       "<Figure size 640x480 with 0 Axes>"
      ]
     },
     "metadata": {},
     "output_type": "display_data"
    },
    {
     "data": {
      "text/plain": [
       "<Figure size 640x480 with 0 Axes>"
      ]
     },
     "metadata": {},
     "output_type": "display_data"
    },
    {
     "data": {
      "text/plain": [
       "<Figure size 640x480 with 0 Axes>"
      ]
     },
     "metadata": {},
     "output_type": "display_data"
    },
    {
     "data": {
      "text/plain": [
       "<Figure size 640x480 with 0 Axes>"
      ]
     },
     "metadata": {},
     "output_type": "display_data"
    },
    {
     "data": {
      "text/plain": [
       "<Figure size 640x480 with 0 Axes>"
      ]
     },
     "metadata": {},
     "output_type": "display_data"
    },
    {
     "data": {
      "text/plain": [
       "<Figure size 640x480 with 0 Axes>"
      ]
     },
     "metadata": {},
     "output_type": "display_data"
    },
    {
     "data": {
      "text/plain": [
       "<Figure size 640x480 with 0 Axes>"
      ]
     },
     "metadata": {},
     "output_type": "display_data"
    },
    {
     "data": {
      "text/plain": [
       "<Figure size 640x480 with 0 Axes>"
      ]
     },
     "metadata": {},
     "output_type": "display_data"
    },
    {
     "data": {
      "text/plain": [
       "<Figure size 640x480 with 0 Axes>"
      ]
     },
     "metadata": {},
     "output_type": "display_data"
    }
   ],
   "source": [
    "# Simulation parameters\n",
    "landmarks = {\n",
    "    0: (5.0, 5.0),\n",
    "    1: (5.0, -5.0),\n",
    "    2: (-5.0, 5.0),\n",
    "    3: (-5.0, -5.0),\n",
    "}\n",
    "num_steps = 10\n",
    "control_inputs = [(1.0, 0.5, 0.1)] * num_steps\n",
    "\n",
    "# Initialize AMCL and visualizer\n",
    "true_pose = (0, 0, 0)\n",
    "amcl = AMCL(1000, landmarks, initial_pose=true_pose)\n",
    "vis = AMCLVisualizer(amcl, landmarks, true_pose)\n",
    "\n",
    "# Simulation loop\n",
    "for i, u in enumerate(control_inputs):\n",
    "    # Move robot and get new true pose\n",
    "    true_pose = simulate_robot_movement(true_pose, u) # true pos setelah noise\n",
    "    \n",
    "    # Generate measurements from new true pose\n",
    "    measurements = generate_measurements(true_pose, landmarks)\n",
    "    \n",
    "    # AMCL steps\n",
    "    amcl.predict(u, (0.1, 0.1, 0.05))\n",
    "    amcl.update(measurements, 0.1, 0.05)\n",
    "    amcl.resample()\n",
    "    \n",
    "    # Update visualization\n",
    "    vis.true_pose = true_pose\n",
    "    vis.update_plot()\n",
    "\n",
    "plt.show()"
   ]
  },
  {
   "cell_type": "code",
   "execution_count": null,
   "id": "ac38b3ad",
   "metadata": {},
   "outputs": [],
   "source": []
  }
 ],
 "metadata": {
  "kernelspec": {
   "display_name": "data-sci-env",
   "language": "python",
   "name": "python3"
  },
  "language_info": {
   "codemirror_mode": {
    "name": "ipython",
    "version": 3
   },
   "file_extension": ".py",
   "mimetype": "text/x-python",
   "name": "python",
   "nbconvert_exporter": "python",
   "pygments_lexer": "ipython3",
   "version": "3.11.8"
  }
 },
 "nbformat": 4,
 "nbformat_minor": 5
}
